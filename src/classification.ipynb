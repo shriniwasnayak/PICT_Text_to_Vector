{
 "cells": [
  {
   "cell_type": "code",
   "execution_count": 32,
   "id": "76b8b38f",
   "metadata": {},
   "outputs": [],
   "source": [
    "#CRUD and preprocess\n",
    "import nltk\n",
    "import pandas as pd\n",
    "import contractions\n",
    "import re\n",
    "import numpy as np\n",
    "\n",
    "# nltk.download('wordnet')\n",
    "# nltk.download('stopwords')\n",
    "#nltk.download('punkt')\n",
    "\n",
    "#Vectorize\n",
    "from sklearn.feature_extraction.text import CountVectorizer\n",
    "from sklearn.feature_extraction.text import TfidfVectorizer\n",
    "from gensim.models import Word2Vec\n",
    "from gensim.models import Doc2Vec\n",
    "from gensim.models.doc2vec import TaggedDocument\n",
    "import spacy\n",
    "\n",
    "#general\n",
    "import os\n",
    "import sys\n",
    "import time\n",
    "\n",
    "from sklearn.feature_extraction.text import TfidfVectorizer\n",
    "from sklearn.model_selection import train_test_split\n",
    "from sklearn.naive_bayes import BernoulliNB \n",
    "from sklearn.metrics import accuracy_score, classification_report\n",
    "from sklearn.metrics import f1_score\n"
   ]
  },
  {
   "cell_type": "markdown",
   "id": "15c36af5",
   "metadata": {},
   "source": [
    "[Kaggle DataSet](https://www.kaggle.com/datasets/team-ai/spam-text-message-classification?resource=download)"
   ]
  },
  {
   "cell_type": "code",
   "execution_count": 24,
   "id": "aeddb0ac",
   "metadata": {},
   "outputs": [],
   "source": [
    "input_file = \"../data/SPAM text message 20170820 - Data.csv\""
   ]
  },
  {
   "cell_type": "code",
   "execution_count": 25,
   "id": "858d365b",
   "metadata": {},
   "outputs": [],
   "source": [
    "df = pd.read_csv(input_file)"
   ]
  },
  {
   "cell_type": "code",
   "execution_count": 36,
   "id": "850a5f82",
   "metadata": {},
   "outputs": [],
   "source": [
    "df.head(10)\n",
    "df = df.iloc[:600]"
   ]
  },
  {
   "cell_type": "code",
   "execution_count": 37,
   "id": "1c5b1444",
   "metadata": {},
   "outputs": [
    {
     "data": {
      "text/plain": [
       "0    512\n",
       "1     88\n",
       "Name: Category, dtype: int64"
      ]
     },
     "execution_count": 37,
     "metadata": {},
     "output_type": "execute_result"
    }
   ],
   "source": [
    "df['Category'].value_counts()"
   ]
  },
  {
   "cell_type": "code",
   "execution_count": 38,
   "id": "d98db5b1",
   "metadata": {},
   "outputs": [
    {
     "data": {
      "text/plain": [
       "0    512\n",
       "1     88\n",
       "Name: Category, dtype: int64"
      ]
     },
     "execution_count": 38,
     "metadata": {},
     "output_type": "execute_result"
    }
   ],
   "source": [
    "df['Category'] = df['Category'].replace({\n",
    "    'ham' : 0,\n",
    "    'spam' : 1\n",
    "}).astype(np.int32)\n",
    "\n",
    "df['Category'].value_counts()"
   ]
  },
  {
   "cell_type": "code",
   "execution_count": 39,
   "id": "4f2a40df",
   "metadata": {},
   "outputs": [],
   "source": [
    "X_train, X_test, y_train, y_test = train_test_split(df['Message'], df['Category'], test_size=0.2, random_state=42)"
   ]
  },
  {
   "cell_type": "code",
   "execution_count": 40,
   "id": "6f36adc0",
   "metadata": {},
   "outputs": [],
   "source": [
    "def runModel(X_train, X_test, y_train, y_test):\n",
    "    \n",
    "    naive_bayes_classifier = BernoulliNB()\n",
    "    naive_bayes_classifier.fit(X_train_vec, y_train)\n",
    "\n",
    "    y_pred = naive_bayes_classifier.predict(X_test_vec)\n",
    "\n",
    "    f1 = f1_score(y_test, y_pred, average='weighted')\n",
    "\n",
    "    return f1\n",
    "    "
   ]
  },
  {
   "cell_type": "code",
   "execution_count": 41,
   "id": "9a42f020",
   "metadata": {},
   "outputs": [
    {
     "data": {
      "text/plain": [
       "0.9736744186046512"
      ]
     },
     "execution_count": 41,
     "metadata": {},
     "output_type": "execute_result"
    }
   ],
   "source": [
    "tfidf_vectorizer = TfidfVectorizer(max_features=1000)  # You can adjust max_features as needed\n",
    "\n",
    "X_train_vec = tfidf_vectorizer.fit_transform(X_train)\n",
    "\n",
    "X_test_vec = tfidf_vectorizer.transform(X_test)\n",
    "\n",
    "runModel(\n",
    "    X_train = X_train,\n",
    "    X_test = X_test_vec,\n",
    "    y_train = y_train,\n",
    "    y_test = y_test\n",
    ")"
   ]
  }
 ],
 "metadata": {
  "kernelspec": {
   "display_name": "Python 3 (ipykernel)",
   "language": "python",
   "name": "python3"
  },
  "language_info": {
   "codemirror_mode": {
    "name": "ipython",
    "version": 3
   },
   "file_extension": ".py",
   "mimetype": "text/x-python",
   "name": "python",
   "nbconvert_exporter": "python",
   "pygments_lexer": "ipython3",
   "version": "3.11.4"
  }
 },
 "nbformat": 4,
 "nbformat_minor": 5
}
